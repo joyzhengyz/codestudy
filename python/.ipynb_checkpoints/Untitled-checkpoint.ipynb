{
 "cells": [
  {
   "cell_type": "code",
   "execution_count": null,
   "metadata": {},
   "outputs": [],
   "source": [
    "#!/bin/python\n",
    "import numpy as np\n",
    "import matplotlib.pyplot as plt\n",
    "class antpath():\n",
    "    def __init__(self, n, m):\n",
    "        self.n = n\n",
    "        self.m = m\n",
    "        assert(n > 0 and m > 0)\n",
    "\n",
    "    def gettotalpaths(self, n, m):\n",
    "        totalpaths = 0\n",
    "        if n == 0:\n",
    "            totalpaths = 1\n",
    "        elif m == 0:\n",
    "            totalpaths = 1\n",
    "        else:\n",
    "            totalpaths = self.gettotalpaths(n-1,m)+self.gettotalpaths(n,m-1)\n",
    "        return totalpaths\n",
    "\n",
    "Ant = antpath(23,31)\n",
    "print(Ant.gettotalpaths(23,31))\n"
   ]
  },
  {
   "cell_type": "code",
   "execution_count": null,
   "metadata": {},
   "outputs": [],
   "source": []
  },
  {
   "cell_type": "code",
   "execution_count": null,
   "metadata": {},
   "outputs": [],
   "source": []
  },
  {
   "cell_type": "code",
   "execution_count": null,
   "metadata": {},
   "outputs": [],
   "source": []
  }
 ],
 "metadata": {
  "kernelspec": {
   "display_name": "Python 3",
   "language": "python",
   "name": "python3"
  },
  "language_info": {
   "codemirror_mode": {
    "name": "ipython",
    "version": 3
   },
   "file_extension": ".py",
   "mimetype": "text/x-python",
   "name": "python",
   "nbconvert_exporter": "python",
   "pygments_lexer": "ipython3",
   "version": "3.5.2"
  }
 },
 "nbformat": 4,
 "nbformat_minor": 2
}
